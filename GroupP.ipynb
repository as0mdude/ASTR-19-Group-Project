{
 "cells": [
  {
   "cell_type": "code",
   "execution_count": null,
   "id": "1147a6a7-d484-40ba-8278-9446ace78bc9",
   "metadata": {},
   "outputs": [],
   "source": [
    "from scipy import optimize\n",
    "import matplotlib.pyplot as plt\n",
    "import numpy as np"
   ]
  },
  {
   "cell_type": "code",
   "execution_count": null,
   "id": "4d9e78e3-8328-45b5-8aa3-2a3f4b6e9ad2",
   "metadata": {},
   "outputs": [],
   "source": [
    "data = open(\"C:\\ASTR19_S22_group_project_data.txt\",'r')\n",
    "\n",
    "def Osc():\n",
    "    "
   ]
  }
 ],
 "metadata": {
  "kernelspec": {
   "display_name": "Python 3 (ipykernel)",
   "language": "python",
   "name": "python3"
  },
  "language_info": {
   "codemirror_mode": {
    "name": "ipython",
    "version": 3
   },
   "file_extension": ".py",
   "mimetype": "text/x-python",
   "name": "python",
   "nbconvert_exporter": "python",
   "pygments_lexer": "ipython3",
   "version": "3.9.7"
  }
 },
 "nbformat": 4,
 "nbformat_minor": 5
}
